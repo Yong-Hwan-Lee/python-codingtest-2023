{
 "cells": [
  {
   "attachments": {},
   "cell_type": "markdown",
   "metadata": {},
   "source": [
    "## 선택정렬"
   ]
  },
  {
   "attachments": {},
   "cell_type": "markdown",
   "metadata": {},
   "source": [
    "### 최소값 위치함수"
   ]
  },
  {
   "cell_type": "code",
   "execution_count": null,
   "metadata": {},
   "outputs": [],
   "source": [
    "def findMinIdx(ary):\n",
    "    minIdx = 0 # 배열0부터 \n",
    "    for i in range(1, len(ary)):\n",
    "        if ary[minIdx] > ary[i]: # 지정된 값이 배열에 현재값보다 크면\n",
    "            minIdx = i\n",
    "\n",
    "    return minIdx\n"
   ]
  },
  {
   "cell_type": "code",
   "execution_count": null,
   "metadata": {},
   "outputs": [],
   "source": [
    "tests = [55, 88, 33, 77, 10]\n",
    "print(findMinIdx(tests))"
   ]
  },
  {
   "attachments": {},
   "cell_type": "markdown",
   "metadata": {},
   "source": [
    "### 선택정렬 전체\n",
    "배열을 두개만들 필요 X, 값 교환 swap기능학습"
   ]
  },
  {
   "cell_type": "code",
   "execution_count": 1,
   "metadata": {},
   "outputs": [
    {
     "name": "stdout",
     "output_type": "stream",
     "text": [
      "정렬전 --> [188, 162, 168, 120, 20, 150, 177, 100]\n"
     ]
    },
    {
     "ename": "NameError",
     "evalue": "name 'dataBank' is not defined",
     "output_type": "error",
     "traceback": [
      "\u001b[1;31m---------------------------------------------------------------------------\u001b[0m",
      "\u001b[1;31mNameError\u001b[0m                                 Traceback (most recent call last)",
      "Cell \u001b[1;32mIn[1], line 20\u001b[0m\n\u001b[0;32m     17\u001b[0m dataAry \u001b[39m=\u001b[39m [\u001b[39m188\u001b[39m, \u001b[39m162\u001b[39m, \u001b[39m168\u001b[39m, \u001b[39m120\u001b[39m, \u001b[39m20\u001b[39m, \u001b[39m150\u001b[39m, \u001b[39m177\u001b[39m, \u001b[39m100\u001b[39m]\n\u001b[0;32m     19\u001b[0m \u001b[39mprint\u001b[39m(\u001b[39m'\u001b[39m\u001b[39m정렬전 -->\u001b[39m\u001b[39m'\u001b[39m, dataAry)\n\u001b[1;32m---> 20\u001b[0m dataAry \u001b[39m=\u001b[39m selectionSort(dataBank)\n\u001b[0;32m     21\u001b[0m \u001b[39mprint\u001b[39m(\u001b[39m'\u001b[39m\u001b[39m정렬후 -->\u001b[39m\u001b[39m'\u001b[39m, dataBank)\n\u001b[0;32m     22\u001b[0m \u001b[39m# 10000개 정렬 2.7초\u001b[39;00m\n",
      "\u001b[1;31mNameError\u001b[0m: name 'dataBank' is not defined"
     ]
    }
   ],
   "source": [
    "def selectionSort(ary):\n",
    "    n = len(ary)\n",
    "    for i in range(0, n-1): # 마지막 인덱스 n-2\n",
    "        minIdx = i\n",
    "        # print('사이클# -->', ary)\n",
    "        for k in range(i+1, n): # 마지막 인덱스 n-1\n",
    "            if ary[minIdx] > ary[k]:\n",
    "                minIdx = k\n",
    "        # tmp = ary[i] \n",
    "        # ary[i] = ary[minIdx] # 최소값으로 변경\n",
    "        # ary[minIdx] = tmp    # 구식\n",
    "        ary[i], ary[minIdx] = ary[minIdx], ary[i]  # 신식\n",
    "\n",
    "    return ary\n",
    "\n",
    "# 변수\n",
    "dataAry = [188, 162, 168, 120, 20, 150, 177, 100]\n",
    "\n",
    "print('정렬전 -->', dataAry)\n",
    "dataAry = selectionSort(dataBank)\n",
    "print('정렬후 -->', dataBank)\n",
    "# 10000개 정렬 2.7초"
   ]
  },
  {
   "cell_type": "markdown",
   "metadata": {},
   "source": [
    "### 삽입정렬 Insertion Sort\n",
    "자신의 삽입위치를 찾는 함수"
   ]
  },
  {
   "cell_type": "code",
   "execution_count": null,
   "metadata": {},
   "outputs": [],
   "source": [
    "def findInsertIdx(ary, data):\n",
    "    findIdx = -1\n",
    "    for i in range(0, len(ary)): \n",
    "        if ary[i] > data:\n",
    "            findIdx = i\n",
    "            break\n",
    "    if findIdx == -1: \n",
    "        return len(ary)\n",
    "    else:\n",
    "        return findIdx"
   ]
  },
  {
   "cell_type": "code",
   "execution_count": null,
   "metadata": {},
   "outputs": [],
   "source": [
    "testAry = []\n",
    "print('50이 들어갈 위치', findInsertIdx(testAry, 50))\n",
    "testAry = [33, 60, 54, 88]\n",
    "print('55가 들어갈 위치', findInsertIdx(testAry, 55))"
   ]
  },
  {
   "cell_type": "code",
   "execution_count": null,
   "metadata": {},
   "outputs": [],
   "source": [
    "before = [188, 162, 168, 120, 50, 150, 177, 105]\n",
    "after = []\n",
    "\n",
    "print('정렬 전 -->', before)\n",
    "for i in range(len(before)):\n",
    "    data = before[i]\n",
    "    idx = findInsertIdx(after, data)\n",
    "    after.insert(idx, data)\n",
    "print('정렬 후 -->', after)\n",
    "print('원본 -->', before)"
   ]
  },
  {
   "cell_type": "markdown",
   "metadata": {},
   "source": [
    "### 삽입정렬 개선"
   ]
  },
  {
   "cell_type": "code",
   "execution_count": null,
   "metadata": {},
   "outputs": [],
   "source": [
    "def insertionSort(ary):\n",
    "    n = len(ary)\n",
    "    for end in range(1, n): # 앞의 값 하나 빼고 끝까지 반복\n",
    "        # print('사이클# -->', ary)\n",
    "        for cur in range(end, 0, -1): # 반대로 돌면서\n",
    "            if ary[cur-1] > ary[cur]:\n",
    "                ary[cur-1], ary[cur] = ary[cur], ary[cur-1] # 파이썬 swap!!\n",
    "\n",
    "    return ary\n",
    "\n",
    "dataAry = [188, 162, 168, 120, 20, 150, 177, 105]\n",
    "\n",
    "print('정렬전 -->', dataAry)\n",
    "dataBank = insertionSort(dataBank)\n",
    "print('정렬후 -->', dataBank)\n",
    "# 10000 개 : 5.4초"
   ]
  },
  {
   "attachments": {},
   "cell_type": "markdown",
   "metadata": {},
   "source": [
    "### 버블 정렬(Bubble Sort)"
   ]
  },
  {
   "cell_type": "code",
   "execution_count": null,
   "metadata": {},
   "outputs": [],
   "source": [
    "def BubbleSort(ary):\n",
    "    n = len(ary)\n",
    "    for end in range(n-1, 0, -1): # n-1번째 부터 0까지 역순\n",
    "        # print('사이클# -->', ary)\n",
    "        for cur in range(0, end): # 0부터 n-2까지 반복\n",
    "            if ary[cur] > ary[cur+1]:\n",
    "                ary[cur], ary[cur+1] = ary[cur+1], ary[cur]\n",
    "    \n",
    "    return ary\n",
    "\n",
    "dataAry = [190, 162, 168, 120, 20, 150, 177, 105]\n",
    "\n",
    "print('정렬전 -->', dataAry)\n",
    "dataBank = BubbleSort(dataBank)\n",
    "print('정렬후 -->', dataBank)\n",
    "# 10000개 5.7초"
   ]
  },
  {
   "cell_type": "markdown",
   "metadata": {},
   "source": [
    "### 퀵 정렬(Quick Sort)"
   ]
  },
  {
   "cell_type": "code",
   "execution_count": null,
   "metadata": {},
   "outputs": [],
   "source": [
    "def quickSort(ary):\n",
    "    n = len(ary)\n",
    "    if n <= 1:    # 정렬갯수가 1개 이하면\n",
    "        return ary\n",
    "\n",
    "    pivot = ary[n // 2] # 중간값을 기준값으로\n",
    "    leftAry, rightAry, midAry = [], [], [] \n",
    "\n",
    "    for num in ary:\n",
    "        if num < pivot:\n",
    "            leftAry.append(num)\n",
    "        elif num > pivot:\n",
    "            rightAry.append(num)\n",
    "        else:\n",
    "            midAry.append(num) # 중복을 고려\n",
    "\n",
    "    return quickSort(leftAry) + midAry + quickSort(rightAry)\n",
    "\n",
    "dataAry = [190, 162, 168, 120, 20, 150, 177, 105, 120]\n",
    "\n",
    "print('정렬전 -->', dataAry)\n",
    "dataBank = quickSort(dataBank)\n",
    "print('정렬후 -->', dataBank)\n",
    "# 10000개 0.3초"
   ]
  },
  {
   "cell_type": "markdown",
   "metadata": {},
   "source": [
    "### 리스트정렬"
   ]
  },
  {
   "cell_type": "code",
   "execution_count": null,
   "metadata": {},
   "outputs": [],
   "source": [
    "import random\n",
    "\n",
    "dataBank = []\n",
    "\n",
    "for i in range(0, 10000):\n",
    "    dataBank.append(random.randint(0, 10000))"
   ]
  },
  {
   "cell_type": "code",
   "execution_count": null,
   "metadata": {},
   "outputs": [],
   "source": [
    "dataBank.sort() # 오름차순 정렬\n",
    "dataBank.sort(reverse=True) # 내림차순 정렬\n",
    "# 기본 정렬 존재"
   ]
  },
  {
   "cell_type": "code",
   "execution_count": null,
   "metadata": {},
   "outputs": [],
   "source": [
    "values = sorted(dataBank, reverse=False)"
   ]
  }
 ],
 "metadata": {
  "kernelspec": {
   "display_name": "Python 3",
   "language": "python",
   "name": "python3"
  },
  "language_info": {
   "codemirror_mode": {
    "name": "ipython",
    "version": 3
   },
   "file_extension": ".py",
   "mimetype": "text/x-python",
   "name": "python",
   "nbconvert_exporter": "python",
   "pygments_lexer": "ipython3",
   "version": "3.11.1"
  },
  "orig_nbformat": 4,
  "vscode": {
   "interpreter": {
    "hash": "a3d8f53f1429d27b792a3789224562ddd32c1395c9a9cfbb17b3c19c3b9a493d"
   }
  }
 },
 "nbformat": 4,
 "nbformat_minor": 2
}
