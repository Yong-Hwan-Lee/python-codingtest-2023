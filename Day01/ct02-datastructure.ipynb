{
 "cells": [
  {
   "attachments": {},
   "cell_type": "markdown",
   "metadata": {},
   "source": [
    "## 자료구조\n",
    "\n",
    "### 숫자의 합 - 백준 1172"
   ]
  },
  {
   "cell_type": "code",
   "execution_count": 14,
   "metadata": {},
   "outputs": [
    {
     "ename": "TypeError",
     "evalue": "unsupported operand type(s) for +=: 'int' and 'tuple'",
     "output_type": "error",
     "traceback": [
      "\u001b[1;31m---------------------------------------------------------------------------\u001b[0m",
      "\u001b[1;31mTypeError\u001b[0m                                 Traceback (most recent call last)",
      "Cell \u001b[1;32mIn[14], line 5\u001b[0m\n\u001b[0;32m      3\u001b[0m \u001b[39msum\u001b[39m \u001b[39m=\u001b[39m \u001b[39m0\u001b[39m\n\u001b[0;32m      4\u001b[0m \u001b[39mfor\u001b[39;00m i \u001b[39min\u001b[39;00m \u001b[39menumerate\u001b[39m(numbers):\n\u001b[1;32m----> 5\u001b[0m     \u001b[39msum\u001b[39;49m \u001b[39m+\u001b[39;49m\u001b[39m=\u001b[39;49m i\n\u001b[0;32m      6\u001b[0m \u001b[39mprint\u001b[39m(\u001b[39msum\u001b[39m)\n",
      "\u001b[1;31mTypeError\u001b[0m: unsupported operand type(s) for +=: 'int' and 'tuple'"
     ]
    }
   ],
   "source": [
    "# input 문자열 파라미터를 넣으면 틀린문제로 간주!\n",
    "N = int(input())\n",
    "numbers = list(map(int, input()))\n",
    "mysum = 0\n",
    "for i in numbers:\n",
    "    mysum += i\n",
    "print(mysum)"
   ]
  },
  {
   "attachments": {},
   "cell_type": "markdown",
   "metadata": {},
   "source": [
    "### 평균 - 백준온라인 1546"
   ]
  },
  {
   "cell_type": "code",
   "execution_count": 57,
   "metadata": {},
   "outputs": [
    {
     "name": "stdout",
     "output_type": "stream",
     "text": [
      "38.75\n"
     ]
    }
   ],
   "source": [
    "N = int(input())\n",
    "sub_score = list(map(int, input().split()))\n",
    "M = max(sub_score)\n",
    "myavg = 0\n",
    "mysum = 0\n",
    "for i in range(N):\n",
    "    avg_score = sub_score[i]/M*100\n",
    "    mysum += avg_score\n",
    "myavg =mysum/N\n",
    "print(myavg)"
   ]
  },
  {
   "cell_type": "code",
   "execution_count": 1,
   "metadata": {},
   "outputs": [
    {
     "name": "stdout",
     "output_type": "stream",
     "text": [
      "75.0\n"
     ]
    }
   ],
   "source": [
    "n = int(input()) #과목수\n",
    "mytest = list(map(int, input().split())) # 점수 다 받는거\n",
    "mymax = max(mytest) #성적 중 최대점수\n",
    "mysum = 0\n",
    "for i in mytest:\n",
    "    mysum += i\n",
    "print(mysum * 100 / mymax / n) # 평균 구하기"
   ]
  },
  {
   "attachments": {},
   "cell_type": "markdown",
   "metadata": {},
   "source": [
    "### 구간 합 구하기 4 - 백준 11659"
   ]
  },
  {
   "cell_type": "code",
   "execution_count": 10,
   "metadata": {},
   "outputs": [
    {
     "name": "stdout",
     "output_type": "stream",
     "text": [
      "12\n",
      "9\n",
      "1\n"
     ]
    }
   ],
   "source": [
    "\n",
    "import sys\n",
    "input = sys.stdin.readline\n",
    "\n",
    "N, M = tuple(map(int, input().split()))\n",
    "numbers = list(map(int, input().split()))\n",
    "sums = [0]\n",
    "temp = 0\n",
    "\n",
    "for i in numbers:\n",
    "    temp = temp + i #temp 5 9 12 14 15\n",
    "    sums.append(temp)\n",
    "    # [0, 5, 9, 12, 14, 15]\n",
    "\n",
    "for i in range(M):\n",
    "    x, y = tuple(map(int, input().split()))\n",
    "    print(sums[y] - sums[x - 1])\n",
    "\n"
   ]
  }
 ],
 "metadata": {
  "kernelspec": {
   "display_name": "Python 3",
   "language": "python",
   "name": "python3"
  },
  "language_info": {
   "codemirror_mode": {
    "name": "ipython",
    "version": 3
   },
   "file_extension": ".py",
   "mimetype": "text/x-python",
   "name": "python",
   "nbconvert_exporter": "python",
   "pygments_lexer": "ipython3",
   "version": "3.11.1"
  },
  "orig_nbformat": 4,
  "vscode": {
   "interpreter": {
    "hash": "a3d8f53f1429d27b792a3789224562ddd32c1395c9a9cfbb17b3c19c3b9a493d"
   }
  }
 },
 "nbformat": 4,
 "nbformat_minor": 2
}
